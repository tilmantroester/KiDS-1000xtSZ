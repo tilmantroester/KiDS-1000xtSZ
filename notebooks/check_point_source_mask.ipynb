{
 "cells": [
  {
   "cell_type": "code",
   "execution_count": 1,
   "source": [
    "import astropy.io.fits as fits\n",
    "\n",
    "import numpy as np\n",
    "import healpy as hp\n",
    "\n",
    "%matplotlib inline\n",
    "import matplotlib.pyplot as plt"
   ],
   "outputs": [],
   "metadata": {}
  },
  {
   "cell_type": "code",
   "execution_count": null,
   "source": [
    "mask = hp.read_map(\"../data/Planck/mask_ps_gal40.fits\") > 0\n",
    "\n",
    "ps_mask = hp.read_map(\"../data/Planck/mask_ps.fits\") > 0\n",
    "\n",
    "shear_mask = hp.read_map(\"../data/shear_maps_KiDS1000/z0.1-1.2/singlet_mask.fits\") > 0"
   ],
   "outputs": [],
   "metadata": {}
  },
  {
   "cell_type": "code",
   "execution_count": 3,
   "source": [
    "with fits.open(\"../data/Planck/COM_PCCS_100_R2.01.fits\") as hdu:\n",
    "    l, b = hdu[1].data[\"GLAT\"], hdu[1].data[\"GLON\"]\n",
    "    extended, flux, flux_err = hdu[1].data[\"EXTENDED\"], hdu[1].data[\"DETFLUX\"], hdu[1].data[\"DETFLUX_ERR\"]\n",
    "\n",
    "pccs2e =np.zeros(l.size, dtype=bool)"
   ],
   "outputs": [],
   "metadata": {}
  },
  {
   "cell_type": "code",
   "execution_count": 4,
   "source": [
    "with fits.open(\"../data/Planck/COM_PCCS_100-excluded_R2.01.fits\") as hdu:\n",
    "    l = np.append(l, hdu[1].data[\"GLAT\"])\n",
    "    b = np.append(b, hdu[1].data[\"GLON\"])\n",
    "\n",
    "    extended = np.append(extended, hdu[1].data[\"EXTENDED\"])\n",
    "    flux = np.append(flux, hdu[1].data[\"DETFLUX\"])\n",
    "    flux_err = np.append(flux_err, hdu[1].data[\"DETFLUX_ERR\"])\n",
    "\n",
    "    pccs2e = np.append(pccs2e, np.ones(l.size-pccs2e.size, dtype=bool))"
   ],
   "outputs": [],
   "metadata": {}
  },
  {
   "cell_type": "code",
   "execution_count": 16,
   "source": [
    "pixel_idx = hp.ang2pix(2048, b, l, lonlat=True)\n",
    "\n",
    "unmasked_source_ps_mask_idx = (ps_mask)[pixel_idx]\n",
    "unmasked_source_ps_gal_mask_idx = (mask)[pixel_idx]\n",
    "unmasked_source_ps_gal_shear_mask_idx = (mask & shear_mask)[pixel_idx]\n",
    "\n",
    "flux_greater_300_idx = flux > 300\n"
   ],
   "outputs": [],
   "metadata": {}
  },
  {
   "cell_type": "code",
   "execution_count": 21,
   "source": [
    "m = unmasked_source_ps_gal_mask_idx & flux_greater_300_idx\n",
    "\n",
    "print(\"Unmasked sources (point source and 40% galactic mask) with flux > 300 mJy\")\n",
    "print(\"Flux [mJy]    Flux/σ_flux  Extended     in PCCS2E   in KiDS footprint\")\n",
    "for e, f, f_err, pe, in_kids_footprint in zip(extended[m],\n",
    "                                              flux[m], flux_err[m],\n",
    "                                              pccs2e[m],\n",
    "                                              unmasked_source_ps_gal_shear_mask_idx[m]):\n",
    "    print(f\"{f:.1f}±{f_err:.1f}    {f/f_err:.1f}          {e>0}         {pe}        {in_kids_footprint}\")"
   ],
   "outputs": [
    {
     "output_type": "stream",
     "name": "stdout",
     "text": [
      "Unmasked sources (point source and 40% galactic mask) with flux > 300 mJy\n",
      "Flux [mJy]    Flux/σ_flux  Extended     in PCCS2E   in KiDS footprint\n",
      "300.4±61.3    4.9          True         False        False\n",
      "363.8±61.6    5.9          True         False        False\n"
     ]
    }
   ],
   "metadata": {}
  }
 ],
 "metadata": {
  "interpreter": {
   "hash": "7a991487700cde85717e51fe9bb1f495da22c4970d41d2a724ec938a4223424f"
  },
  "kernelspec": {
   "display_name": "Python 3.7.4 64-bit ('analysis': conda)",
   "name": "python3"
  },
  "language_info": {
   "codemirror_mode": {
    "name": "ipython",
    "version": 3
   },
   "file_extension": ".py",
   "mimetype": "text/x-python",
   "name": "python",
   "nbconvert_exporter": "python",
   "pygments_lexer": "ipython3",
   "version": "3.7.4"
  },
  "orig_nbformat": 4
 },
 "nbformat": 4,
 "nbformat_minor": 2
}